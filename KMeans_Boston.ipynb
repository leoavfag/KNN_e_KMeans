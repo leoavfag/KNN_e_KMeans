{
 "cells": [
  {
   "cell_type": "code",
   "execution_count": 48,
   "metadata": {},
   "outputs": [],
   "source": [
    "import numpy as np\n",
    "import pandas as pd\n",
    "import random\n",
    "import math\n",
    "from sklearn import datasets\n",
    "import matplotlib.pyplot as plt"
   ]
  },
  {
   "cell_type": "code",
   "execution_count": 49,
   "metadata": {},
   "outputs": [],
   "source": [
    "boston = datasets.load_boston()\n",
    "dataDiferente = np.concatenate(([boston.data[:,1]],[boston.data[:,2]]))"
   ]
  },
  {
   "cell_type": "code",
   "execution_count": null,
   "metadata": {},
   "outputs": [],
   "source": []
  },
  {
   "cell_type": "code",
   "execution_count": 50,
   "metadata": {},
   "outputs": [],
   "source": [
    "data = np.zeros((len(dataDiferente[0]),2))\n",
    "\n",
    "for dupla in range(len(dataDiferente[0])):\n",
    "   data[dupla][0] = dataDiferente[0][dupla]\n",
    "   data[dupla][1] = dataDiferente[1][dupla]\n",
    "\n",
    "    \n",
    "k = 3 # Numero de clusters\n",
    "medias = np.zeros((k,2))\n",
    "grupos = {}"
   ]
  },
  {
   "cell_type": "code",
   "execution_count": 51,
   "metadata": {},
   "outputs": [
    {
     "data": {
      "text/plain": [
       "array([[18.  ,  2.31],\n",
       "       [ 0.  ,  7.07],\n",
       "       [ 0.  ,  7.07],\n",
       "       ...,\n",
       "       [ 0.  , 11.93],\n",
       "       [ 0.  , 11.93],\n",
       "       [ 0.  , 11.93]])"
      ]
     },
     "execution_count": 51,
     "metadata": {},
     "output_type": "execute_result"
    }
   ],
   "source": [
    "data"
   ]
  },
  {
   "cell_type": "code",
   "execution_count": 52,
   "metadata": {},
   "outputs": [],
   "source": [
    "def dist(x0, y0, x1, y1):\n",
    "    a = (x1 - x0)**2 + (y1 - y0)**2\n",
    "    b = math.sqrt(a)\n",
    "    return b"
   ]
  },
  {
   "cell_type": "code",
   "execution_count": 53,
   "metadata": {},
   "outputs": [
    {
     "name": "stdout",
     "output_type": "stream",
     "text": [
      "grupo1\n",
      "grupo2\n",
      "grupo3\n"
     ]
    }
   ],
   "source": [
    "#-------------------------------Escolhe os nucleos\n",
    "\n",
    "for i in range(k):\n",
    "    ran = random.randint(0,len(data)-1)\n",
    "    a = \"grupo\"+str(i+1)\n",
    "    grupos[a] = [[],[]]\n",
    "    grupos[a][0].append(ran)\n",
    "    grupos[a][1] = data[ran][0:2]\n",
    "    medias[i] = grupos[a][1]\n",
    "    print(a)"
   ]
  },
  {
   "cell_type": "code",
   "execution_count": 54,
   "metadata": {},
   "outputs": [],
   "source": [
    "# ------------------------------Classifica\n",
    "    \n",
    "for j in range(len(data)):\n",
    "    x0 = data[j][0]\n",
    "    y0 = data[j][1]\n",
    "    distancias = np.zeros((k,1))\n",
    "    countIndice = 0\n",
    "#    ------------------------------Verifica se ja existe o indice\n",
    "    for a in grupos:\n",
    "        for i in range(len(grupos[a][0])):\n",
    "            if j == grupos[a][0][i]:\n",
    "                countIndice += 1\n",
    "#---------------------------------Calcula a distancia entre todos os grupos\n",
    "    if countIndice == 0:\n",
    "        for i in range(k):\n",
    "            a = \"grupo\"+str(i+1)\n",
    "            x1 = grupos[a][1][0]\n",
    "            y1 = grupos[a][1][1]\n",
    "            distancias[i] = dist(x0, y0, x1, y1)\n",
    "       \n",
    "#--------------------------------De acordo com as distancias adiciona no grupo correspondente\n",
    "        for x in range(k):\n",
    "            count = 0\n",
    "            for y in range(k):\n",
    "                if(distancias[x]<distancias[y]):\n",
    "                    count += 1\n",
    "            if count==2:\n",
    "                a = \"grupo\"+str(x+1)\n",
    "                grupos[a][0].append(j)\n",
    "                medias[x] +=  data[j][0:2]\n",
    "                grupos[a][1] = medias[x]/(len(grupos[a][0]))\n"
   ]
  },
  {
   "cell_type": "code",
   "execution_count": null,
   "metadata": {},
   "outputs": [],
   "source": []
  },
  {
   "cell_type": "code",
   "execution_count": 55,
   "metadata": {},
   "outputs": [],
   "source": [
    "#-----------------------------Refaz a classificação\n",
    "\n",
    "for j in range(len(data)):\n",
    "    x0 = data[j][0]\n",
    "    y0 = data[j][1]\n",
    "    distancias = np.zeros((k,1))\n",
    "    for i in range(k):\n",
    "        a = \"grupo\"+str(i+1)\n",
    "        x1 = grupos[a][1][0]\n",
    "        y1 = grupos[a][1][1]\n",
    "        distancias[i] = dist(x0, y0, x1, y1)\n",
    "    for x in range(k):\n",
    "         count = 0\n",
    "         for y in range(k):\n",
    "             if(distancias[x]<distancias[y]):\n",
    "                 count += 1\n",
    "         if count==2:\n",
    "             a = \"grupo\"+str(x+1)\n",
    "             for i in range(len(grupos[a][0])):\n",
    "                 if j == grupos[a][0][i]:\n",
    "                     countIndice += 1\n",
    "             if countIndice == 0:\n",
    "                 a = \"grupo\"+str(x+1)\n",
    "                 grupos[a][0].append(j)\n",
    "                 medias[x] +=  data[j][0:2]\n",
    "                 grupos[a][1] = medias[x]/(len(grupos[a][0]))\n",
    "                 for h in range(k):\n",
    "                     if h!=x:\n",
    "                         g =\"grupo\"+str(h+1)\n",
    "                         for k in range(len(grupos[g][0])):\n",
    "                             if j == grupos[g][0][k]:\n",
    "                                 del(grupos[g][0][k])\n",
    "                                 break"
   ]
  },
  {
   "cell_type": "code",
   "execution_count": null,
   "metadata": {},
   "outputs": [],
   "source": []
  },
  {
   "cell_type": "code",
   "execution_count": 56,
   "metadata": {},
   "outputs": [],
   "source": [
    "cls = np.zeros(len(data),dtype=int)\n",
    "\n",
    "NPC = 0\n",
    "\n",
    "for a in grupos:\n",
    "    for i in grupos[a][0]:\n",
    "        cls[i] = NPC\n",
    "    NPC+=1"
   ]
  },
  {
   "cell_type": "code",
   "execution_count": 60,
   "metadata": {},
   "outputs": [
    {
     "data": {
      "image/png": "[encoded data removed]",
      "text/plain": [
       "<Figure size 432x288 with 1 Axes>"
      ]
     },
     "metadata": {
      "needs_background": "light"
     },
     "output_type": "display_data"
    }
   ],
   "source": [
    "X = data[:, :2]  # as duas primeiras caracteristicas\n",
    "y = cls\n",
    "plt.subplots()\n",
    "plt.scatter(X[:, 1], X[:, 0], c=y, cmap=plt.cm.Set1)\n",
    "plt.xlabel('proporção de terrenos')\n",
    "plt.ylabel('taxa de crime por cidade')\n",
    "plt.grid(True)\n",
    "plt.show()\n"
   ]
  },
  {
   "cell_type": "code",
   "execution_count": 58,
   "metadata": {},
   "outputs": [
    {
     "data": {
      "text/plain": [
       "array([1, 1, 1, 1, 1, 1, 2, 2, 2, 2, 2, 2, 2, 1, 1, 1, 1, 1, 1, 1, 1, 1,\n",
       "       1, 1, 1, 1, 1, 1, 1, 1, 1, 1, 1, 1, 1, 1, 1, 1, 1, 2, 2, 1, 1, 1,\n",
       "       1, 1, 1, 1, 1, 1, 2, 2, 2, 2, 2, 2, 2, 2, 2, 2, 2, 2, 2, 2, 2, 2,\n",
       "       2, 1, 1, 1, 1, 1, 1, 1, 0, 0, 0, 0, 0, 0, 2, 2, 2, 2, 1, 1, 1, 1,\n",
       "       1, 1, 1, 1, 2, 2, 2, 1, 1, 1, 1, 1, 1, 1, 1, 1, 1, 1, 1, 1, 1, 1,\n",
       "       1, 1, 1, 1, 1, 1, 1, 1, 1, 1, 0, 0, 0, 0, 0, 0, 0, 0, 0, 0, 0, 0,\n",
       "       0, 0, 0, 0, 0, 0, 0, 0, 0, 0, 0, 0, 0, 0, 0, 0, 0, 0, 0, 0, 0, 0,\n",
       "       0, 0, 0, 0, 0, 0, 0, 0, 0, 0, 0, 0, 0, 0, 0, 0, 0, 0, 1, 1, 1, 1,\n",
       "       2, 1, 1, 1, 1, 1, 1, 1, 1, 1, 1, 2, 2, 2, 2, 2, 2, 2, 2, 2, 2, 2,\n",
       "       2, 2, 2, 2, 2, 2, 2, 1, 1, 1, 1, 1, 1, 1, 1, 1, 1, 1, 0, 0, 0, 0,\n",
       "       1, 1, 1, 1, 1, 1, 1, 1, 1, 1, 1, 1, 1, 1, 1, 1, 1, 1, 2, 2, 2, 2,\n",
       "       2, 2, 1, 1, 1, 1, 1, 1, 1, 1, 1, 1, 2, 2, 2, 1, 1, 1, 1, 1, 1, 1,\n",
       "       1, 1, 1, 1, 1, 1, 1, 1, 1, 1, 2, 2, 2, 2, 2, 1, 1, 1, 1, 2, 2, 2,\n",
       "       2, 2, 2, 2, 2, 2, 2, 0, 0, 0, 0, 0, 2, 2, 2, 2, 2, 2, 2, 2, 2, 2,\n",
       "       1, 1, 1, 1, 1, 1, 1, 1, 1, 1, 1, 1, 1, 1, 1, 1, 1, 1, 1, 1, 1, 1,\n",
       "       1, 2, 2, 1, 1, 1, 1, 1, 1, 1, 1, 2, 1, 2, 2, 1, 1, 2, 2, 2, 2, 2,\n",
       "       2, 2, 2, 2, 0, 0, 0, 0, 0, 0, 0, 0, 0, 0, 0, 0, 0, 0, 0, 0, 0, 0,\n",
       "       0, 0, 0, 0, 0, 0, 0, 0, 0, 0, 0, 0, 0, 0, 0, 0, 0, 0, 0, 0, 0, 0,\n",
       "       0, 0, 0, 0, 0, 0, 0, 0, 0, 0, 0, 0, 0, 0, 0, 0, 0, 0, 0, 0, 0, 0,\n",
       "       0, 0, 0, 0, 0, 0, 0, 0, 0, 0, 0, 0, 0, 0, 0, 0, 0, 0, 0, 0, 0, 0,\n",
       "       0, 0, 0, 0, 0, 0, 0, 0, 0, 0, 0, 0, 0, 0, 0, 0, 0, 0, 0, 0, 0, 0,\n",
       "       0, 0, 0, 0, 0, 0, 0, 0, 0, 0, 0, 0, 0, 0, 0, 0, 0, 0, 0, 0, 0, 0,\n",
       "       0, 0, 0, 0, 0, 0, 0, 0, 0, 1, 1, 1, 1, 1, 1, 1, 1, 1, 1, 1, 1, 1])"
      ]
     },
     "execution_count": 58,
     "metadata": {},
     "output_type": "execute_result"
    }
   ],
   "source": [
    "cls"
   ]
  },
  {
   "cell_type": "code",
   "execution_count": null,
   "metadata": {},
   "outputs": [],
   "source": []
  }
 ],
 "metadata": {
  "kernelspec": {
   "display_name": "Python 3",
   "language": "python",
   "name": "python3"
  },
  "language_info": {
   "codemirror_mode": {
    "name": "ipython",
    "version": 3
   },
   "file_extension": ".py",
   "mimetype": "text/x-python",
   "name": "python",
   "nbconvert_exporter": "python",
   "pygments_lexer": "ipython3",
   "version": "3.7.1"
  }
 },
 "nbformat": 4,
 "nbformat_minor": 2
}

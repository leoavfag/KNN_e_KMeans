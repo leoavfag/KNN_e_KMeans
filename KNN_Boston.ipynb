{
 "cells": [
  {
   "cell_type": "code",
   "execution_count": 1,
   "metadata": {},
   "outputs": [],
   "source": [
    "import numpy as np\n",
    "import pandas as pd\n",
    "import random\n",
    "import math\n",
    "from sklearn import datasets\n",
    "import matplotlib.pyplot as plt\n"
   ]
  },
  {
   "cell_type": "code",
   "execution_count": 2,
   "metadata": {},
   "outputs": [],
   "source": [
    "def dist(x0, y0, x1, y1):\n",
    "    a = (x1 - x0)**2 + (y1 - y0)**2\n",
    "    b = math.sqrt(a)\n",
    "    return b"
   ]
  },
  {
   "cell_type": "code",
   "execution_count": 19,
   "metadata": {},
   "outputs": [],
   "source": [
    "boston = datasets.load_boston()\n",
    "dataDiferente = np.concatenate(([boston.data[:,1]],[boston.data[:,2]]))\n",
    "\n",
    "data = np.zeros((len(dataDiferente[0]),2))\n",
    "\n",
    "for dupla in range(len(dataDiferente[0])):\n",
    "   data[dupla][0] = dataDiferente[0][dupla]\n",
    "   data[dupla][1] = dataDiferente[1][dupla]\n",
    "\n",
    "k = 3      #Elementos a comparar\n",
    "Clas = 3   #Numero de classificações\n",
    "porcentagem = 0.5"
   ]
  },
  {
   "cell_type": "code",
   "execution_count": 20,
   "metadata": {},
   "outputs": [
    {
     "data": {
      "text/plain": [
       "506"
      ]
     },
     "execution_count": 20,
     "metadata": {},
     "output_type": "execute_result"
    }
   ],
   "source": [
    "len(data)"
   ]
  },
  {
   "cell_type": "code",
   "execution_count": 21,
   "metadata": {},
   "outputs": [],
   "source": [
    "target = np.zeros(len(data),dtype=int) \n",
    "for i in range(len(data)):\n",
    "    if data[i][0] == 0:\n",
    "        target[i] = 0 # baixa cr\n",
    "    elif  (data[i][0] <= 50) and (data[i][0]>0):\n",
    "        target[i] = 1 # Media cr\n",
    "    elif  data[i][0] > 50:\n",
    "        target[i] = 2 # alta cr\n",
    "    "
   ]
  },
  {
   "cell_type": "code",
   "execution_count": 22,
   "metadata": {},
   "outputs": [],
   "source": [
    "df = pd.DataFrame(data,columns=['DataX','DataY'])\n",
    "\n",
    "df['Classificação'] = 4\n",
    "\n",
    "porInd = int(len(target)*porcentagem)"
   ]
  },
  {
   "cell_type": "code",
   "execution_count": 23,
   "metadata": {},
   "outputs": [],
   "source": [
    "for i in range(porInd):\n",
    "    i1 = random.randint(0,len(target)-1)\n",
    "    df.loc[i1,'Classificação'] = target[i1]"
   ]
  },
  {
   "cell_type": "code",
   "execution_count": 24,
   "metadata": {},
   "outputs": [],
   "source": [
    "dif4 = pd.DataFrame()\n",
    "df['Distancia'] = 0.0"
   ]
  },
  {
   "cell_type": "code",
   "execution_count": 25,
   "metadata": {},
   "outputs": [],
   "source": [
    "for i in range(len(data)):\n",
    "    x0 = data[i][0]\n",
    "    y0 = data[i][1]\n",
    "    if df.loc[i,'Classificação'] == 4:\n",
    "        for j in range(len(df['DataX'])):\n",
    "            x1 = data[j][0]\n",
    "            y1 = data[j][0]\n",
    "            if df.loc[j,'Classificação'] != 4:\n",
    "                df.loc[j,'Distancia'] = dist(x0, y0, x1, y1)\n",
    "        dif4 = pd.DataFrame(df[df.Classificação != 4])\n",
    "        dif3 = pd.DataFrame(dif4.sort_values(['Distancia']))\n",
    "        count = np.zeros(Clas,dtype=int)\n",
    "        for x in range(k):\n",
    "            for y in range(Clas):\n",
    "                Clase = pd.DataFrame(dif3['Classificação'].head(x+1))\n",
    "                ClasEle = Clase.iloc[0][0]\n",
    "                if ClasEle == y:\n",
    "                   count[y] += 1\n",
    "                   break\n",
    "        for x in range(Clas):\n",
    "            countPass = 0\n",
    "            countIGUAIS = 0\n",
    "            for y in range(Clas):\n",
    "                if count[x] > count[y]:\n",
    "                    countPass +=1\n",
    "                elif count[x] == count[y]:\n",
    "                    countIGUAIS += 1\n",
    "            if countPass == 2:\n",
    "                df.loc[i,'Classificação'] = x\n",
    "                break\n",
    "            elif countIGUAIS == k:\n",
    "                Clase = dif3['Classificação'].head(1)\n",
    "                ClasEle = Clase.iloc[0][0]\n",
    "                df.loc[i,'Classificação'] = ClasEle\n",
    "                break\n"
   ]
  },
  {
   "cell_type": "code",
   "execution_count": 26,
   "metadata": {},
   "outputs": [
    {
     "data": {
      "image/png": "[encoded data removed]",
      "text/plain": [
       "<Figure size 432x288 with 1 Axes>"
      ]
     },
     "metadata": {
      "needs_background": "light"
     },
     "output_type": "display_data"
    }
   ],
   "source": [
    "X = data[:, :2]  # as duas primeiras caracteristicas\n",
    "y = df.Classificação\n",
    "plt.subplots()\n",
    "plt.scatter(X[:, 1], X[:, 0], c=y, cmap=plt.cm.Set1)\n",
    "plt.xlabel('Proporção de terrenos')\n",
    "plt.ylabel('taxa de crime por cidade')\n",
    "plt.grid(True)\n",
    "plt.show()\n"
   ]
  },
  {
   "cell_type": "code",
   "execution_count": null,
   "metadata": {},
   "outputs": [],
   "source": []
  },
  {
   "cell_type": "code",
   "execution_count": null,
   "metadata": {},
   "outputs": [],
   "source": []
  },
  {
   "cell_type": "code",
   "execution_count": null,
   "metadata": {},
   "outputs": [],
   "source": []
  }
 ],
 "metadata": {
  "kernelspec": {
   "display_name": "Python 3",
   "language": "python",
   "name": "python3"
  },
  "language_info": {
   "codemirror_mode": {
    "name": "ipython",
    "version": 3
   },
   "file_extension": ".py",
   "mimetype": "text/x-python",
   "name": "python",
   "nbconvert_exporter": "python",
   "pygments_lexer": "ipython3",
   "version": "3.7.1"
  }
 },
 "nbformat": 4,
 "nbformat_minor": 2
}
